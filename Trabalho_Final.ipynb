{
 "cells": [
  {
   "cell_type": "code",
   "execution_count": 18,
   "id": "e519f8c6",
   "metadata": {},
   "outputs": [],
   "source": [
    "def lf(distancia,atenuacao):\n",
    "    Lf = distancia*atenuacao\n",
    "    return Lf"
   ]
  },
  {
   "cell_type": "code",
   "execution_count": 19,
   "id": "8447ef3a",
   "metadata": {},
   "outputs": [],
   "source": [
    "lf1=lf(5,1)\n",
    "lf2=lf(3.5,0.7)\n",
    "lf3=lf(2.2,1.1)"
   ]
  },
  {
   "cell_type": "code",
   "execution_count": 20,
   "id": "51b5a244",
   "metadata": {},
   "outputs": [],
   "source": [
    "import math\n",
    "def abertura_numerica(n1,n2):\n",
    "    na=math.sqrt((n1**2)-(n2**2))\n",
    "    return na\n",
    "    "
   ]
  },
  {
   "cell_type": "code",
   "execution_count": 21,
   "id": "f3bac0d4",
   "metadata": {},
   "outputs": [],
   "source": [
    "naR1=abertura_numerica(1.420,1.383)"
   ]
  },
  {
   "cell_type": "code",
   "execution_count": 22,
   "id": "eb47c84c",
   "metadata": {},
   "outputs": [],
   "source": [
    "naE1=abertura_numerica(1.447,1.430)"
   ]
  },
  {
   "cell_type": "code",
   "execution_count": 23,
   "id": "c19f530f",
   "metadata": {},
   "outputs": [],
   "source": [
    "import math\n",
    "def Lf_NA(naR,naE):\n",
    "    num = ((naR/naE)**2)\n",
    "    lf_na=(math.log10(num))*(10)\n",
    "    return lf_na\n",
    "    "
   ]
  },
  {
   "cell_type": "code",
   "execution_count": 24,
   "id": "f724fdcd",
   "metadata": {},
   "outputs": [],
   "source": [
    "lf_na=Lf_NA(naR1,naE1)"
   ]
  },
  {
   "cell_type": "code",
   "execution_count": 25,
   "id": "f26940e8",
   "metadata": {},
   "outputs": [],
   "source": [
    "ar = (40)\n",
    "ae = 30"
   ]
  },
  {
   "cell_type": "code",
   "execution_count": 26,
   "id": "011461d5",
   "metadata": {},
   "outputs": [],
   "source": [
    "import math\n",
    "def Lf_a(ar,ae):\n",
    "    num = ((ar/ae)**2)\n",
    "    lf_na=(math.log10(num))*(10)\n",
    "    return lf_na"
   ]
  },
  {
   "cell_type": "code",
   "execution_count": 27,
   "id": "76f9a5c0",
   "metadata": {},
   "outputs": [],
   "source": [
    "lf_a = Lf_a(ar,ae)"
   ]
  },
  {
   "cell_type": "code",
   "execution_count": 34,
   "id": "052da148",
   "metadata": {},
   "outputs": [
    {
     "data": {
      "text/plain": [
       "2.498774732165999"
      ]
     },
     "execution_count": 34,
     "metadata": {},
     "output_type": "execute_result"
    }
   ],
   "source": [
    "lf_a"
   ]
  },
  {
   "cell_type": "code",
   "execution_count": 28,
   "id": "a87d8364",
   "metadata": {},
   "outputs": [],
   "source": [
    "At_conector1 = 0.5\n",
    "At_conector2 = 0.6"
   ]
  },
  {
   "cell_type": "code",
   "execution_count": 29,
   "id": "6793d065",
   "metadata": {},
   "outputs": [],
   "source": [
    "Lftotal = lf_na + lf_a + At_conector1 + At_conector2 + lf1 + lf2 + lf3"
   ]
  },
  {
   "cell_type": "code",
   "execution_count": 31,
   "id": "af10a9fe",
   "metadata": {},
   "outputs": [
    {
     "name": "stdout",
     "output_type": "stream",
     "text": [
      "16.73313511775276\n"
     ]
    }
   ],
   "source": [
    "print(Lftotal)"
   ]
  },
  {
   "cell_type": "code",
   "execution_count": 32,
   "id": "321d5cac",
   "metadata": {},
   "outputs": [],
   "source": [
    "x2 = lf1 + lf2 + lf3 "
   ]
  },
  {
   "cell_type": "code",
   "execution_count": 33,
   "id": "2a5161a0",
   "metadata": {},
   "outputs": [
    {
     "data": {
      "text/plain": [
       "9.87"
      ]
     },
     "execution_count": 33,
     "metadata": {},
     "output_type": "execute_result"
    }
   ],
   "source": [
    "x2"
   ]
  },
  {
   "cell_type": "code",
   "execution_count": 35,
   "id": "6c0d0a6a",
   "metadata": {},
   "outputs": [],
   "source": [
    "x5 = lf_a + lf_na"
   ]
  },
  {
   "cell_type": "code",
   "execution_count": 36,
   "id": "c3fcffb7",
   "metadata": {},
   "outputs": [
    {
     "data": {
      "text/plain": [
       "5.76313511775276"
      ]
     },
     "execution_count": 36,
     "metadata": {},
     "output_type": "execute_result"
    }
   ],
   "source": [
    "x5"
   ]
  },
  {
   "cell_type": "code",
   "execution_count": 38,
   "id": "d3aafc62",
   "metadata": {},
   "outputs": [],
   "source": [
    "dg = 1/(pow(10,-8))"
   ]
  },
  {
   "cell_type": "code",
   "execution_count": 48,
   "id": "6cd2d6fe",
   "metadata": {},
   "outputs": [],
   "source": [
    "L = 5"
   ]
  },
  {
   "cell_type": "code",
   "execution_count": 49,
   "id": "b327f1f0",
   "metadata": {},
   "outputs": [
    {
     "data": {
      "text/plain": [
       "5000"
      ]
     },
     "execution_count": 49,
     "metadata": {},
     "output_type": "execute_result"
    }
   ],
   "source": [
    "L*(pow(10,3))"
   ]
  },
  {
   "cell_type": "code",
   "execution_count": null,
   "id": "811b4050",
   "metadata": {},
   "outputs": [],
   "source": []
  }
 ],
 "metadata": {
  "hide_input": false,
  "kernelspec": {
   "display_name": "Python 3 (ipykernel)",
   "language": "python",
   "name": "python3"
  },
  "language_info": {
   "codemirror_mode": {
    "name": "ipython",
    "version": 3
   },
   "file_extension": ".py",
   "mimetype": "text/x-python",
   "name": "python",
   "nbconvert_exporter": "python",
   "pygments_lexer": "ipython3",
   "version": "3.9.7"
  },
  "toc": {
   "base_numbering": 1,
   "nav_menu": {},
   "number_sections": true,
   "sideBar": true,
   "skip_h1_title": false,
   "title_cell": "Table of Contents",
   "title_sidebar": "Contents",
   "toc_cell": false,
   "toc_position": {},
   "toc_section_display": true,
   "toc_window_display": false
  }
 },
 "nbformat": 4,
 "nbformat_minor": 5
}
